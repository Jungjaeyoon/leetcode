{
 "cells": [
  {
   "cell_type": "code",
   "execution_count": 176,
   "metadata": {},
   "outputs": [],
   "source": [
    "# The isBadVersion API is already defined for you.\n",
    "# def isBadVersion(version: int) -> bool:\n",
    "\n",
    "\n",
    "n = 5\n",
    "\n",
    "def isBadVersion(n):\n",
    "    if n in(1,2,3):\n",
    "        return False\n",
    "    else :\n",
    "        return True\n",
    "\n",
    "def firstBadVersion(n):\n",
    "    low = 1\n",
    "    high = n\n",
    "    mid = 0\n",
    "    for x in range(n):\n",
    "        mid = low+high //2\n",
    "        if isBadVersion(mid) == True:\n",
    "            if mid ==0:\n",
    "                return mid\n",
    "            elif isBadVersion(mid-1) == False:\n",
    "                print(\"test\")\n",
    "                \n",
    "               \n",
    "            else:\n",
    "                low = low + mid //2\n",
    "        else:\n",
    "            low = mid\n",
    "\n",
    "    "
   ]
  },
  {
   "cell_type": "code",
   "execution_count": 177,
   "metadata": {},
   "outputs": [],
   "source": [
    "firstBadVersion(5)"
   ]
  },
  {
   "cell_type": "code",
   "execution_count": 180,
   "metadata": {},
   "outputs": [
    {
     "data": {
      "text/plain": [
       "True"
      ]
     },
     "execution_count": 180,
     "metadata": {},
     "output_type": "execute_result"
    }
   ],
   "source": [
    "isBadVersion(3) == False\n"
   ]
  }
 ],
 "metadata": {
  "kernelspec": {
   "display_name": "Python 3",
   "language": "python",
   "name": "python3"
  },
  "language_info": {
   "codemirror_mode": {
    "name": "ipython",
    "version": 3
   },
   "file_extension": ".py",
   "mimetype": "text/x-python",
   "name": "python",
   "nbconvert_exporter": "python",
   "pygments_lexer": "ipython3",
   "version": "3.8.5"
  }
 },
 "nbformat": 4,
 "nbformat_minor": 4
}
